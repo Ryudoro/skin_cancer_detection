{
 "cells": [
  {
   "cell_type": "code",
   "execution_count": null,
   "id": "032a9801-3d84-46b1-9d48-0d025dfd356a",
   "metadata": {},
   "outputs": [],
   "source": [
    "import pandas as pd\n",
    "import fiftyone as fo"
   ]
  },
  {
   "cell_type": "code",
   "execution_count": null,
   "id": "7a948042-b3e1-43e6-8dae-34288d7a934d",
   "metadata": {},
   "outputs": [],
   "source": [
    "def load_custom_dataset_from_csv(csv_path, split):\n",
    "    dataset = fo.Dataset(f\"skin_cancer-{split}\")\n",
    "    df = pd.read_csv(csv_path)\n",
    "    filepaths= df.filepath.tolist()\n",
    "    \n",
    "    for i, img_path in enumerate(filepaths):\n",
    "        lesion_id = df.lesion_id.iloc[i]\n",
    "        image_id = df.image_id.iloc[i]\n",
    "        dx = df.dx.iloc[i]\n",
    "        dx_type = df.dx_type.iloc[i]\n",
    "        age = df.age.iloc[i]\n",
    "        sex= df.sex.iloc[i]\n",
    "        localization= df.localization.iloc[i]\n",
    "        label= df.label.iloc[i]\n",
    "\n",
    "\n",
    "        sample = fo.Sample(filepath=img_path)\n",
    "        sample[\"lesion_id\"] = lesion_id\n",
    "        sample[\"image_id\"] = image_id\n",
    "        sample[\"dx\"] = dx\n",
    "        sample[\"dx_type\"] = dx_type\n",
    "        sample[\"age\"] = age\n",
    "        sample[\"sex\"] = sex\n",
    "        sample[\"localization\"] = localization\n",
    "        sample[\"label\"] = label\n",
    "        \n",
    "        \n",
    "        dataset.add_sample(sample)\n",
    "        \n",
    "    return dataset\n",
    "\n"
   ]
  },
  {
   "cell_type": "code",
   "execution_count": null,
   "id": "854faaa3-290d-42d7-8333-8e6950a5483b",
   "metadata": {},
   "outputs": [],
   "source": [
    "duplicates_csv_path = \"duplicates_df.csv\"\n",
    "dataset = load_custom_dataset_from_csv(duplicates_csv_path, 'duplicates')\n"
   ]
  },
  {
   "cell_type": "code",
   "execution_count": null,
   "id": "7c01ac17-b055-425f-b8f2-64fc29c83d9e",
   "metadata": {},
   "outputs": [],
   "source": [
    "session = fo.launch_app(dataset)\n"
   ]
  },
  {
   "cell_type": "code",
   "execution_count": null,
   "id": "aa73f7ba-01fe-44bf-9f9d-7bd80f3c1ed3",
   "metadata": {},
   "outputs": [],
   "source": []
  }
 ],
 "metadata": {
  "kernelspec": {
   "display_name": "Python 3 (ipykernel)",
   "language": "python",
   "name": "python3"
  },
  "language_info": {
   "codemirror_mode": {
    "name": "ipython",
    "version": 3
   },
   "file_extension": ".py",
   "mimetype": "text/x-python",
   "name": "python",
   "nbconvert_exporter": "python",
   "pygments_lexer": "ipython3",
   "version": "3.9.6"
  }
 },
 "nbformat": 4,
 "nbformat_minor": 5
}
