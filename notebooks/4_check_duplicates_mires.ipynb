{
 "cells": [
  {
   "cell_type": "code",
   "execution_count": 1,
   "id": "032a9801-3d84-46b1-9d48-0d025dfd356a",
   "metadata": {},
   "outputs": [],
   "source": [
    "import pandas as pd\n",
    "import fiftyone as fo"
   ]
  },
  {
   "cell_type": "code",
   "execution_count": 2,
   "id": "f89110e8-2fee-4274-84c3-50e721797855",
   "metadata": {},
   "outputs": [],
   "source": [
    "main_dir = \"dataset_HAM10000\"\n",
    "all_csv_path = \"all_paths_metadata_df.csv\"\n",
    "duplicates_csv_path = \"duplicates_df.csv\""
   ]
  },
  {
   "cell_type": "code",
   "execution_count": 3,
   "id": "8e3feff5-5497-4edc-a732-cd3698fb81e0",
   "metadata": {},
   "outputs": [
    {
     "data": {
      "text/html": [
       "<div>\n",
       "<style scoped>\n",
       "    .dataframe tbody tr th:only-of-type {\n",
       "        vertical-align: middle;\n",
       "    }\n",
       "\n",
       "    .dataframe tbody tr th {\n",
       "        vertical-align: top;\n",
       "    }\n",
       "\n",
       "    .dataframe thead th {\n",
       "        text-align: right;\n",
       "    }\n",
       "</style>\n",
       "<table border=\"1\" class=\"dataframe\">\n",
       "  <thead>\n",
       "    <tr style=\"text-align: right;\">\n",
       "      <th></th>\n",
       "      <th>filepath</th>\n",
       "      <th>mode</th>\n",
       "      <th>height</th>\n",
       "      <th>width</th>\n",
       "      <th>format</th>\n",
       "      <th>directory</th>\n",
       "      <th>file_name</th>\n",
       "      <th>lesion_id</th>\n",
       "      <th>image_id</th>\n",
       "      <th>dx</th>\n",
       "      <th>dx_type</th>\n",
       "      <th>age</th>\n",
       "      <th>sex</th>\n",
       "      <th>localization</th>\n",
       "      <th>label</th>\n",
       "    </tr>\n",
       "  </thead>\n",
       "  <tbody>\n",
       "    <tr>\n",
       "      <th>0</th>\n",
       "      <td>dataset_HAM10000/HAM10000_images_part_1/ISIC_0...</td>\n",
       "      <td>RGB</td>\n",
       "      <td>450</td>\n",
       "      <td>600</td>\n",
       "      <td>JPEG</td>\n",
       "      <td>HAM10000_images_part_1</td>\n",
       "      <td>ISIC_0024306</td>\n",
       "      <td>HAM_0000550</td>\n",
       "      <td>ISIC_0024306</td>\n",
       "      <td>Melanocytic nevi</td>\n",
       "      <td>follow_up</td>\n",
       "      <td>45.0</td>\n",
       "      <td>male</td>\n",
       "      <td>trunk</td>\n",
       "      <td>1</td>\n",
       "    </tr>\n",
       "    <tr>\n",
       "      <th>1</th>\n",
       "      <td>dataset_HAM10000/HAM10000_images_part_1/ISIC_0...</td>\n",
       "      <td>RGB</td>\n",
       "      <td>450</td>\n",
       "      <td>600</td>\n",
       "      <td>JPEG</td>\n",
       "      <td>HAM10000_images_part_1</td>\n",
       "      <td>ISIC_0024307</td>\n",
       "      <td>HAM_0003577</td>\n",
       "      <td>ISIC_0024307</td>\n",
       "      <td>Melanocytic nevi</td>\n",
       "      <td>follow_up</td>\n",
       "      <td>50.0</td>\n",
       "      <td>male</td>\n",
       "      <td>lower extremity</td>\n",
       "      <td>1</td>\n",
       "    </tr>\n",
       "    <tr>\n",
       "      <th>2</th>\n",
       "      <td>dataset_HAM10000/HAM10000_images_part_1/ISIC_0...</td>\n",
       "      <td>RGB</td>\n",
       "      <td>450</td>\n",
       "      <td>600</td>\n",
       "      <td>JPEG</td>\n",
       "      <td>HAM10000_images_part_1</td>\n",
       "      <td>ISIC_0024308</td>\n",
       "      <td>HAM_0001477</td>\n",
       "      <td>ISIC_0024308</td>\n",
       "      <td>Melanocytic nevi</td>\n",
       "      <td>follow_up</td>\n",
       "      <td>55.0</td>\n",
       "      <td>female</td>\n",
       "      <td>trunk</td>\n",
       "      <td>1</td>\n",
       "    </tr>\n",
       "    <tr>\n",
       "      <th>3</th>\n",
       "      <td>dataset_HAM10000/HAM10000_images_part_1/ISIC_0...</td>\n",
       "      <td>RGB</td>\n",
       "      <td>450</td>\n",
       "      <td>600</td>\n",
       "      <td>JPEG</td>\n",
       "      <td>HAM10000_images_part_1</td>\n",
       "      <td>ISIC_0024309</td>\n",
       "      <td>HAM_0000484</td>\n",
       "      <td>ISIC_0024309</td>\n",
       "      <td>Melanocytic nevi</td>\n",
       "      <td>follow_up</td>\n",
       "      <td>40.0</td>\n",
       "      <td>male</td>\n",
       "      <td>trunk</td>\n",
       "      <td>1</td>\n",
       "    </tr>\n",
       "    <tr>\n",
       "      <th>4</th>\n",
       "      <td>dataset_HAM10000/HAM10000_images_part_1/ISIC_0...</td>\n",
       "      <td>RGB</td>\n",
       "      <td>450</td>\n",
       "      <td>600</td>\n",
       "      <td>JPEG</td>\n",
       "      <td>HAM10000_images_part_1</td>\n",
       "      <td>ISIC_0024310</td>\n",
       "      <td>HAM_0003350</td>\n",
       "      <td>ISIC_0024310</td>\n",
       "      <td>Melanoma</td>\n",
       "      <td>histo</td>\n",
       "      <td>60.0</td>\n",
       "      <td>male</td>\n",
       "      <td>chest</td>\n",
       "      <td>2</td>\n",
       "    </tr>\n",
       "  </tbody>\n",
       "</table>\n",
       "</div>"
      ],
      "text/plain": [
       "                                            filepath mode  height  width  \\\n",
       "0  dataset_HAM10000/HAM10000_images_part_1/ISIC_0...  RGB     450    600   \n",
       "1  dataset_HAM10000/HAM10000_images_part_1/ISIC_0...  RGB     450    600   \n",
       "2  dataset_HAM10000/HAM10000_images_part_1/ISIC_0...  RGB     450    600   \n",
       "3  dataset_HAM10000/HAM10000_images_part_1/ISIC_0...  RGB     450    600   \n",
       "4  dataset_HAM10000/HAM10000_images_part_1/ISIC_0...  RGB     450    600   \n",
       "\n",
       "  format               directory     file_name    lesion_id      image_id  \\\n",
       "0   JPEG  HAM10000_images_part_1  ISIC_0024306  HAM_0000550  ISIC_0024306   \n",
       "1   JPEG  HAM10000_images_part_1  ISIC_0024307  HAM_0003577  ISIC_0024307   \n",
       "2   JPEG  HAM10000_images_part_1  ISIC_0024308  HAM_0001477  ISIC_0024308   \n",
       "3   JPEG  HAM10000_images_part_1  ISIC_0024309  HAM_0000484  ISIC_0024309   \n",
       "4   JPEG  HAM10000_images_part_1  ISIC_0024310  HAM_0003350  ISIC_0024310   \n",
       "\n",
       "                 dx    dx_type   age     sex     localization  label  \n",
       "0  Melanocytic nevi  follow_up  45.0    male            trunk      1  \n",
       "1  Melanocytic nevi  follow_up  50.0    male  lower extremity      1  \n",
       "2  Melanocytic nevi  follow_up  55.0  female            trunk      1  \n",
       "3  Melanocytic nevi  follow_up  40.0    male            trunk      1  \n",
       "4          Melanoma      histo  60.0    male            chest      2  "
      ]
     },
     "execution_count": 3,
     "metadata": {},
     "output_type": "execute_result"
    }
   ],
   "source": [
    "all_df = pd.read_csv(all_csv_path)\n",
    "all_df.head()"
   ]
  },
  {
   "cell_type": "code",
   "execution_count": 4,
   "id": "a1841477-ceef-4099-ad86-9d3e3bb65c0e",
   "metadata": {},
   "outputs": [
    {
     "data": {
      "text/plain": [
       "Index(['filepath', 'mode', 'height', 'width', 'format', 'directory',\n",
       "       'file_name', 'lesion_id', 'image_id', 'dx', 'dx_type', 'age', 'sex',\n",
       "       'localization', 'label'],\n",
       "      dtype='object')"
      ]
     },
     "execution_count": 4,
     "metadata": {},
     "output_type": "execute_result"
    }
   ],
   "source": [
    "duplicates_df = pd.read_csv(duplicates_csv_path)\n",
    "duplicates_df.head()\n",
    "duplicates_df.columns"
   ]
  },
  {
   "cell_type": "code",
   "execution_count": 5,
   "id": "7a948042-b3e1-43e6-8dae-34288d7a934d",
   "metadata": {},
   "outputs": [],
   "source": [
    "def load_custom_dataset_from_csv(csv_path, split):\n",
    "    dataset = fo.Dataset(f\"skin_cancer-{split}\")\n",
    "    df = pd.read_csv(csv_path)\n",
    "    filepaths= df.filepath.tolist()\n",
    "    \n",
    "    for i, img_path in enumerate(filepaths):\n",
    "        lesion_id = df.lesion_id.iloc[i]\n",
    "        image_id = df.image_id.iloc[i]\n",
    "        dx = df.dx.iloc[i]\n",
    "        dx_type = df.dx_type.iloc[i]\n",
    "        age = df.age.iloc[i]\n",
    "        sex= df.sex.iloc[i]\n",
    "        localization= df.localization.iloc[i]\n",
    "        label= df.label.iloc[i]\n",
    "\n",
    "\n",
    "        sample = fo.Sample(filepath=img_path)\n",
    "        sample[\"lesion_id\"] = lesion_id\n",
    "        sample[\"image_id\"] = image_id\n",
    "        sample[\"dx\"] = dx\n",
    "        sample[\"dx_type\"] = dx_type\n",
    "        sample[\"age\"] = age\n",
    "        sample[\"sex\"] = sex\n",
    "        sample[\"localization\"] = localization\n",
    "        sample[\"label\"] = label\n",
    "        \n",
    "        \n",
    "        dataset.add_sample(sample)\n",
    "        \n",
    "    return dataset\n",
    "\n"
   ]
  },
  {
   "cell_type": "code",
   "execution_count": 6,
   "id": "854faaa3-290d-42d7-8333-8e6950a5483b",
   "metadata": {},
   "outputs": [],
   "source": [
    "duplicates_csv_path = \"duplicates_df.csv\"\n",
    "dataset = load_custom_dataset_from_csv(duplicates_csv_path, 'duplicates')\n"
   ]
  },
  {
   "cell_type": "code",
   "execution_count": 8,
   "id": "7c01ac17-b055-425f-b8f2-64fc29c83d9e",
   "metadata": {},
   "outputs": [
    {
     "data": {
      "text/html": [
       "\n",
       "        <iframe\n",
       "            width=\"100%\"\n",
       "            height=\"800\"\n",
       "            src=\"http://localhost:5151/?notebook=True&subscription=b02c5d90-6ad3-4737-9e18-8897a13ded27\"\n",
       "            frameborder=\"0\"\n",
       "            allowfullscreen\n",
       "            \n",
       "        ></iframe>\n",
       "        "
      ],
      "text/plain": [
       "<IPython.lib.display.IFrame at 0x14180be80>"
      ]
     },
     "metadata": {},
     "output_type": "display_data"
    }
   ],
   "source": [
    "session = fo.launch_app(dataset)\n"
   ]
  },
  {
   "cell_type": "code",
   "execution_count": null,
   "id": "aa73f7ba-01fe-44bf-9f9d-7bd80f3c1ed3",
   "metadata": {},
   "outputs": [],
   "source": []
  }
 ],
 "metadata": {
  "kernelspec": {
   "display_name": "Python 3 (ipykernel)",
   "language": "python",
   "name": "python3"
  },
  "language_info": {
   "codemirror_mode": {
    "name": "ipython",
    "version": 3
   },
   "file_extension": ".py",
   "mimetype": "text/x-python",
   "name": "python",
   "nbconvert_exporter": "python",
   "pygments_lexer": "ipython3",
   "version": "3.9.6"
  }
 },
 "nbformat": 4,
 "nbformat_minor": 5
}
